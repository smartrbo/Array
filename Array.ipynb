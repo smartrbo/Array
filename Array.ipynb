{
 "cells": [
  {
   "cell_type": "code",
   "execution_count": 21,
   "id": "679d05a2-878c-497d-bd00-14285f3025f2",
   "metadata": {},
   "outputs": [
    {
     "data": {
      "text/plain": [
       "True"
      ]
     },
     "execution_count": 21,
     "metadata": {},
     "output_type": "execute_result"
    }
   ],
   "source": [
    "#1. Given an array, check if it contains any duplicates or not.\n",
    "#arr = [1, 2, 4, 2, 5, 9]\n",
    "def check_duplicate(arr):\n",
    "    duplicate_element={}\n",
    "    for i in arr:\n",
    "        if i in duplicate_element:\n",
    "            return True\n",
    "        duplicate_element[i]=True\n",
    "    return False\n",
    "            \n",
    "my_list=[1,2,4,2,5,9]\n",
    "check_duplicate(my_list)\n",
    "\n",
    "# Time complexity =O(n)\n",
    "# Space Complexity =O(n)"
   ]
  },
  {
   "cell_type": "code",
   "execution_count": 1,
   "id": "ff8e4b1b-9c5c-4c82-9669-8582fa103fb0",
   "metadata": {},
   "outputs": [
    {
     "data": {
      "text/plain": [
       "[5, 6, 7, 1, 2, 3, 4]"
      ]
     },
     "execution_count": 1,
     "metadata": {},
     "output_type": "execute_result"
    }
   ],
   "source": [
    "# 2. Given an array and an integer k, rotate the array to the right by k steps.\n",
    "# arr = [1, 2, 3, 4, 5, 6, 7] k = 3\n",
    "\n",
    "def rotate_k(arr,k):\n",
    "    n=len(arr)\n",
    "    temp=k%n\n",
    "    if k==0:\n",
    "        return arr\n",
    "    return arr[-temp:]+arr[:-temp]\n",
    "        \n",
    "arr = [1, 2, 3, 4, 5, 6, 7]\n",
    "k=3\n",
    "rotate_k(arr,k)\n",
    "\n",
    "# time complexity O(1)\n",
    "# space complexity O(1)"
   ]
  },
  {
   "cell_type": "code",
   "execution_count": 5,
   "id": "f2fcf43d-c149-47da-b081-78e009184daf",
   "metadata": {},
   "outputs": [
    {
     "name": "stdout",
     "output_type": "stream",
     "text": [
      "Reverse array is [12, 9, 7, 5, 4, 2]\n"
     ]
    }
   ],
   "source": [
    "# 3. Reverse the given array in-place, means without using any extra data structure.\n",
    "# arr = [2, 4, 5, 7, 9, 12]\n",
    "def reverse_arr(arr):\n",
    "    left=0\n",
    "    right=len(arr)-1\n",
    "    while left<right:\n",
    "        arr[left],arr[right]=arr[right],arr[left]\n",
    "        left+=1\n",
    "        right-=1\n",
    "arr=[2, 4, 5, 7, 9, 12]\n",
    "reverse_arr(arr)\n",
    "print('Reverse array is',arr)\n",
    "\n",
    "#time complexity is O(n)\n",
    "#spac"
   ]
  },
  {
   "cell_type": "code",
   "execution_count": 4,
   "id": "cd6f7c3d-dfe6-47d8-a4de-413ce368cd34",
   "metadata": {},
   "outputs": [
    {
     "data": {
      "text/plain": [
       "20"
      ]
     },
     "execution_count": 4,
     "metadata": {},
     "output_type": "execute_result"
    }
   ],
   "source": [
    "# 4. Given an array of integers, find the maximum element in an array\n",
    "# arr = [10, 5, 20, 8, 15]\n",
    "def max_element(arr):\n",
    "    max_element=arr[0]\n",
    "    for i in arr[1:]:\n",
    "        if i > max_element:\n",
    "            max_element=i\n",
    "    return max_element\n",
    "arr = [10, 5, 20, 8, 15]\n",
    "max_element(arr)   "
   ]
  },
  {
   "cell_type": "code",
   "execution_count": 7,
   "id": "b3cd5bac-113e-4965-afea-3ba43ad9d5e1",
   "metadata": {},
   "outputs": [
    {
     "name": "stdout",
     "output_type": "stream",
     "text": [
      "sorted array: [1, 2, 3, 4, 5]\n"
     ]
    }
   ],
   "source": [
    "# 5. Given a sorted array, remove the duplicate element without using any extra data structure.\n",
    "# arr = [1, 1, 2, 2, 2, 3, 3, 4, 4, 4, 5, 5]\n",
    "def duplicate_element(arr):\n",
    "    unique_element = arr[0]\n",
    "    unique_index = 1\n",
    "    for i in range(1, len(arr)):\n",
    "        if arr[i] != unique_element:\n",
    "            unique_element = arr[i]\n",
    "            arr[unique_index] = unique_element\n",
    "            unique_index += 1\n",
    "    return unique_index\n",
    "\n",
    "\n",
    "arr = [1, 1, 2, 2, 2, 3, 3, 4, 4, 4, 5, 5]\n",
    "new_length = duplicate_element(arr)\n",
    "\n",
    "# The unique elements will be stored at the beginning of the array, and the length of the new array is returned.\n",
    "print(\"sorted array:\", arr[:new_length])\n",
    "\n",
    "        "
   ]
  },
  {
   "cell_type": "code",
   "execution_count": null,
   "id": "53bd5af5-adc6-48ae-805d-a1c2e6f71042",
   "metadata": {},
   "outputs": [],
   "source": []
  }
 ],
 "metadata": {
  "kernelspec": {
   "display_name": "Python 3 (ipykernel)",
   "language": "python",
   "name": "python3"
  },
  "language_info": {
   "codemirror_mode": {
    "name": "ipython",
    "version": 3
   },
   "file_extension": ".py",
   "mimetype": "text/x-python",
   "name": "python",
   "nbconvert_exporter": "python",
   "pygments_lexer": "ipython3",
   "version": "3.10.8"
  }
 },
 "nbformat": 4,
 "nbformat_minor": 5
}
